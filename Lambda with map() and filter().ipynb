{
 "cells": [
  {
   "cell_type": "code",
   "execution_count": null,
   "id": "80e626d9-b0a0-425e-adc8-c82844992d38",
   "metadata": {},
   "outputs": [],
   "source": []
  },
  {
   "cell_type": "code",
   "execution_count": 18,
   "id": "d1a9bb2d-7f21-45ad-8faa-0716286a538b",
   "metadata": {},
   "outputs": [
    {
     "name": "stdout",
     "output_type": "stream",
     "text": [
      "8\n"
     ]
    }
   ],
   "source": [
    "#lambda syntax->lambda arguments: expression\n",
    "add = lambda a, b : a + b\n",
    "print(add(3, 5)) # Output: 8"
   ]
  },
  {
   "cell_type": "markdown",
   "id": "98d2c898-a235-4073-83b6-9591651f40ab",
   "metadata": {},
   "source": [
    "# lambda with map()"
   ]
  },
  {
   "cell_type": "code",
   "execution_count": 55,
   "id": "b911ac3f-8209-4b3e-a2a9-2d31a7fb6171",
   "metadata": {},
   "outputs": [
    {
     "data": {
      "text/plain": [
       "<map at 0x1d640e1ae30>"
      ]
     },
     "execution_count": 55,
     "metadata": {},
     "output_type": "execute_result"
    }
   ],
   "source": [
    "# lambda with map()\n",
    "# Syntax - map(function, iterable)\n",
    "nums=[1,2,3,4,5,6,7,8,9,10]\n",
    "squares = map(lambda x: x * x, nums) #map(lambda x: x * x) till \"lambda to x\" is working as function under map as first parameter\n",
    "squares # we requre to store it either as list, tuple or set"
   ]
  },
  {
   "cell_type": "code",
   "execution_count": 28,
   "id": "98586a05-cb08-4d24-996c-c3d45775c409",
   "metadata": {},
   "outputs": [
    {
     "data": {
      "text/plain": [
       "[1, 4, 9, 16, 25, 36, 49, 64, 81, 100]"
      ]
     },
     "execution_count": 28,
     "metadata": {},
     "output_type": "execute_result"
    }
   ],
   "source": [
    "# lambda with map()\n",
    "# Syntax - map(function, iterable) \n",
    "nums=[1,2,3,4,5,6,7,8,9,10]\n",
    "squares = list(map(lambda x: x * x, nums)) # stored in as list\n",
    "squares"
   ]
  },
  {
   "cell_type": "markdown",
   "id": "f1cb4beb-2e8d-4c0a-8087-20904d9a850b",
   "metadata": {},
   "source": [
    "# lambda with filter()"
   ]
  },
  {
   "cell_type": "code",
   "execution_count": 35,
   "id": "4b5e7998-bef4-499b-b477-d6bdaa9688c3",
   "metadata": {},
   "outputs": [
    {
     "data": {
      "text/plain": [
       "<filter at 0x273d3f4d480>"
      ]
     },
     "execution_count": 35,
     "metadata": {},
     "output_type": "execute_result"
    }
   ],
   "source": [
    "# lambda with filter(function, iterable)\n",
    "evens = filter(lambda x: x % 2 == 0, nums) #require to save it as either list, tuple or set\n",
    "evens"
   ]
  },
  {
   "cell_type": "code",
   "execution_count": 39,
   "id": "0a019803-6f7f-42f9-a3c7-f71f794a016d",
   "metadata": {},
   "outputs": [
    {
     "data": {
      "text/plain": [
       "(2, 4, 6, 8, 10)"
      ]
     },
     "execution_count": 39,
     "metadata": {},
     "output_type": "execute_result"
    }
   ],
   "source": [
    "# lambda with filter(function, iterable)\n",
    "evens = tuple(filter(lambda x: x % 2 == 0, nums)) # stored it as tuple\n",
    "evens"
   ]
  },
  {
   "cell_type": "code",
   "execution_count": null,
   "id": "6f09eff6-e9e8-4919-8d12-532d9392c4ba",
   "metadata": {},
   "outputs": [],
   "source": []
  },
  {
   "cell_type": "raw",
   "id": "9f24a900-40a1-4a86-a651-22a2df560634",
   "metadata": {},
   "source": [
    "Feature map() \n",
    "map() - Purpose Transforms every item in the iterable Selects some items based on a condition.\n",
    "\n",
    "filter()\n",
    "Function returns The transformed value True or False (Boolean)\n",
    "Result Same number of items (usually) Fewer or same items (never more)"
   ]
  },
  {
   "cell_type": "code",
   "execution_count": 42,
   "id": "2ace4d7e-37c5-4b3a-a8f2-11c2df08f0af",
   "metadata": {},
   "outputs": [
    {
     "data": {
      "text/plain": [
       "(1, 3, 5, 7, 9)"
      ]
     },
     "execution_count": 42,
     "metadata": {},
     "output_type": "execute_result"
    }
   ],
   "source": [
    "# Check odd number using lambda() with filter()\n",
    "evens = tuple(filter(lambda x: x % 2 != 0, nums)) # stored it as tuple\n",
    "evens"
   ]
  },
  {
   "cell_type": "code",
   "execution_count": null,
   "id": "87bcb6b1-7b47-45d7-b597-9ce4aeb57032",
   "metadata": {},
   "outputs": [],
   "source": []
  },
  {
   "cell_type": "markdown",
   "id": "2661d90a-4a91-41e8-904c-5b2cbcbd7bf5",
   "metadata": {},
   "source": [
    "## lambda assignments"
   ]
  },
  {
   "cell_type": "raw",
   "id": "73e08bf2-2b4f-470a-a41e-f8d3eef82edb",
   "metadata": {},
   "source": [
    "1. Create a lambda function that adds 5 to a given number.\n",
    "2. Use lambda to get the square of a number.\n",
    "3. Write a lambda to multiply three numbers.\n",
    "4. Create a lambda to return the maximum of two numbers.\n",
    "5. Use lambda to check if a number is even.\n",
    "6. Use lambda to check if a string starts with the letter \"A\".\n",
    "7. Create a lambda to reverse a string.\n",
    "8. Use lambda to check if a number is divisible by both 3 and 5.\n",
    "9. Make a lambda that returns `'Yes'` if a number is positive, else `'No'`.\n",
    "10. Create a lambda to calculate the length of a given list."
   ]
  },
  {
   "cell_type": "code",
   "execution_count": 9,
   "id": "2f1f954b-33f4-4e36-8803-a3c0f7db0380",
   "metadata": {},
   "outputs": [
    {
     "name": "stdout",
     "output_type": "stream",
     "text": [
      "13\n"
     ]
    }
   ],
   "source": [
    "#1. Create a lambda function that adds 5 to a given number.\n",
    "ad_tens= lambda x : x+10\n",
    "print(ad_tens(3))"
   ]
  },
  {
   "cell_type": "code",
   "execution_count": 10,
   "id": "ed5d0e50-0742-4f23-8a1d-f0d2c2abde64",
   "metadata": {},
   "outputs": [
    {
     "name": "stdout",
     "output_type": "stream",
     "text": [
      "225\n"
     ]
    }
   ],
   "source": [
    "# 2. Use lambda to get the square of a number.\n",
    "square=lambda x: x*x\n",
    "print(square(15))"
   ]
  },
  {
   "cell_type": "code",
   "execution_count": 15,
   "id": "75312e25-d95c-44d4-a914-a7dba7124320",
   "metadata": {},
   "outputs": [
    {
     "name": "stdout",
     "output_type": "stream",
     "text": [
      "66\n"
     ]
    }
   ],
   "source": [
    "# 3. Write a lambda to multiply three numbers.\n",
    "mul_3num=lambda x,y,z : x*y*z\n",
    "print(mul_3num(11,2,3))"
   ]
  },
  {
   "cell_type": "code",
   "execution_count": 28,
   "id": "0428f52a-b892-4771-9503-4ad62602257f",
   "metadata": {},
   "outputs": [
    {
     "name": "stdout",
     "output_type": "stream",
     "text": [
      "10\n"
     ]
    }
   ],
   "source": [
    "# 4. Create a lambda to return the maximum of two numbers.\n",
    "mx_num= lambda x,y: max(x,y)\n",
    "print(mx_num(7,10))"
   ]
  },
  {
   "cell_type": "code",
   "execution_count": 30,
   "id": "351d2e1e-eb7f-4405-a499-396ff5e24cc5",
   "metadata": {},
   "outputs": [
    {
     "name": "stdout",
     "output_type": "stream",
     "text": [
      "False\n"
     ]
    }
   ],
   "source": [
    "# 5. Use lambda to check if a number is even.\n",
    "even = lambda x : x%2==0\n",
    "print(even(15))"
   ]
  },
  {
   "cell_type": "code",
   "execution_count": 31,
   "id": "8c26eb0b-93df-4482-ae9e-e0055f756ee6",
   "metadata": {},
   "outputs": [],
   "source": [
    "# 6. Use lambda to check if a string starts with the letter \"A\"."
   ]
  },
  {
   "cell_type": "code",
   "execution_count": 35,
   "id": "1559bf30-d88d-4de1-8de7-2b2ac6155f89",
   "metadata": {},
   "outputs": [
    {
     "name": "stdout",
     "output_type": "stream",
     "text": [
      "False\n",
      "True\n"
     ]
    }
   ],
   "source": [
    "starts_with_A= lambda x: x.startswith(\"A\")\n",
    "print(starts_with_A(\"Kamlesh\"))\n",
    "print(starts_with_A(\"Amit\"))"
   ]
  },
  {
   "cell_type": "code",
   "execution_count": 37,
   "id": "3a8e7518-3de5-4d4f-b951-5f324a2dbf8b",
   "metadata": {},
   "outputs": [
    {
     "name": "stdout",
     "output_type": "stream",
     "text": [
      "timA\n"
     ]
    }
   ],
   "source": [
    "# 7. Create a lambda to reverse a string.\n",
    "reverse_string= lambda x: x[::-1]\n",
    "print(reverse_string(\"Amit\"))"
   ]
  },
  {
   "cell_type": "code",
   "execution_count": 40,
   "id": "6abe9997-f931-4147-9bde-403ac3327981",
   "metadata": {},
   "outputs": [
    {
     "name": "stdout",
     "output_type": "stream",
     "text": [
      "False\n",
      "True\n"
     ]
    }
   ],
   "source": [
    "# 8. Use lambda to check if a number is divisible by both 3 and 5.\n",
    "num_divisible_check= lambda x: x%3==0 and x%5==0\n",
    "print(num_divisible_check(21))\n",
    "print(num_divisible_check(30))"
   ]
  },
  {
   "cell_type": "code",
   "execution_count": 49,
   "id": "ab170fe5-e65d-496a-987a-8fdcd753e2ca",
   "metadata": {},
   "outputs": [
    {
     "name": "stdout",
     "output_type": "stream",
     "text": [
      "Negative\n"
     ]
    }
   ],
   "source": [
    "# 9. Make a lambda that returns `'Yes'` if a number is positive, else `'No'`.\n",
    "check_pos_neg= lambda x: \"Negative\" if x<0 else \"Positive\"\n",
    "print(check_pos_neg(-15))"
   ]
  },
  {
   "cell_type": "code",
   "execution_count": 52,
   "id": "853c0d6a-ec54-49c0-aa2b-693e39cfdb15",
   "metadata": {},
   "outputs": [
    {
     "name": "stdout",
     "output_type": "stream",
     "text": [
      "3\n"
     ]
    }
   ],
   "source": [
    "# 10. Create a lambda to calculate the length of a given list.\n",
    "lst_len= lambda lst : len(lst)\n",
    "print(lst_len([1,2,3]))"
   ]
  },
  {
   "cell_type": "code",
   "execution_count": 54,
   "id": "f46fee77-c98d-4e2a-8649-90f5d362c8a5",
   "metadata": {},
   "outputs": [
    {
     "name": "stdout",
     "output_type": "stream",
     "text": [
      "6\n"
     ]
    }
   ],
   "source": [
    "# 11. Create a lambda to calculate the sum of a given list.\n",
    "lst_len= lambda lst : sum(lst)\n",
    "print(lst_len([1,2,3]))"
   ]
  },
  {
   "cell_type": "code",
   "execution_count": null,
   "id": "8c68924b-6a88-499b-b1a1-d22d3eaee3ae",
   "metadata": {},
   "outputs": [],
   "source": []
  }
 ],
 "metadata": {
  "kernelspec": {
   "display_name": "Python 3 (ipykernel)",
   "language": "python",
   "name": "python3"
  },
  "language_info": {
   "codemirror_mode": {
    "name": "ipython",
    "version": 3
   },
   "file_extension": ".py",
   "mimetype": "text/x-python",
   "name": "python",
   "nbconvert_exporter": "python",
   "pygments_lexer": "ipython3",
   "version": "3.12.4"
  }
 },
 "nbformat": 4,
 "nbformat_minor": 5
}
